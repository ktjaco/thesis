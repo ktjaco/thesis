{
 "cells": [
  {
   "cell_type": "code",
   "execution_count": 1,
   "metadata": {},
   "outputs": [],
   "source": [
    "import osmium as osm\n",
    "import pandas as pd"
   ]
  },
  {
   "cell_type": "code",
   "execution_count": 2,
   "metadata": {},
   "outputs": [],
   "source": [
    "class TagGenomeHandler(osm.SimpleHandler):\n",
    "    def __init__(self):\n",
    "        osm.SimpleHandler.__init__(self)\n",
    "        self.taggenome = []\n",
    "\n",
    "    def tag_inventory(self, elem, elem_type):\n",
    "        for tag in elem.tags:\n",
    "            self.taggenome.append([elem_type, \n",
    "                                   elem.id, \n",
    "                                   elem.version, \n",
    "                                   tag.k, \n",
    "                                   tag.v])\n",
    "\n",
    "    def node(self, n):\n",
    "        self.tag_inventory(n, \"node\")\n",
    "\n",
    "    def way(self, w):\n",
    "        self.tag_inventory(w, \"way\")\n",
    "\n",
    "    def relation(self, r):\n",
    "        self.tag_inventory(r, \"relation\")"
   ]
  },
  {
   "cell_type": "code",
   "execution_count": 3,
   "metadata": {},
   "outputs": [],
   "source": [
    "taghandler = TagGenomeHandler()\n",
    "taghandler.apply_file(\"data/ottgat.osh.pbf\")\n",
    "colnames = ['type', 'id', 'version', 'tagkey', 'tagvalue']\n",
    "tag_genome = pd.DataFrame(taghandler.taggenome, columns=colnames)"
   ]
  },
  {
   "cell_type": "code",
   "execution_count": 4,
   "metadata": {
    "scrolled": true
   },
   "outputs": [],
   "source": [
    "osm_history = pd.read_csv(\"output/elements.csv\")\n",
    "enhanced_tag_genome = pd.merge(osm_history[['type', 'id', 'version']], tag_genome, how='left', left_on=['type', 'id', 'version'], right_on=['type', 'id', 'version'])\n",
    "enhanced_tag_genome.to_csv(\"output/enhance.csv\")"
   ]
  },
  {
   "cell_type": "code",
   "execution_count": 5,
   "metadata": {},
   "outputs": [
    {
     "data": {
      "text/plain": [
       "type\n",
       "node        721\n",
       "relation    500\n",
       "way         748\n",
       "Name: tagkey, dtype: int64"
      ]
     },
     "execution_count": 5,
     "metadata": {},
     "output_type": "execute_result"
    }
   ],
   "source": [
    "tag_genome.groupby('type')['tagkey'].nunique()"
   ]
  },
  {
   "cell_type": "code",
   "execution_count": 6,
   "metadata": {},
   "outputs": [],
   "source": [
    "tagkeycount = (tag_genome.groupby(['tagkey','type'])['type']\n",
    "               .count()\n",
    "               .unstack()\n",
    "               .fillna(0))\n",
    "tagkeycount['total'] = tagkeycount.apply(sum, axis=1)\n",
    "tagkeycount = tagkeycount.sort_values('total', ascending=False)\n",
    "tagkeycount.to_csv(\"output/count.csv\")"
   ]
  },
  {
   "cell_type": "code",
   "execution_count": 7,
   "metadata": {
    "scrolled": true
   },
   "outputs": [],
   "source": [
    "def tagkey_analysis(genome, pivot_var=['type']):\n",
    "    return (genome.groupby(['tagkey', *pivot_var])['id']\n",
    "            .nunique()\n",
    "            .unstack()\n",
    "            .fillna(0))\n",
    "tagkey_overview = tagkey_analysis(enhanced_tag_genome, ['type', 'version'])\n",
    "tagkey_overview2 = tagkey_overview.sort_values(1, ascending=False).iloc[:5,:5]"
   ]
  },
  {
   "cell_type": "code",
   "execution_count": 8,
   "metadata": {},
   "outputs": [],
   "source": [
    "tagkey_overview2.to_csv(\"output/overview.csv\")"
   ]
  },
  {
   "cell_type": "code",
   "execution_count": 9,
   "metadata": {},
   "outputs": [],
   "source": [
    "def total_elem(genome, pivot_var=['type', 'version']):\n",
    "    return genome.groupby(pivot_var)['id'].nunique().unstack().fillna(0)"
   ]
  },
  {
   "cell_type": "code",
   "execution_count": 10,
   "metadata": {},
   "outputs": [],
   "source": [
    "totalelem = total_elem(enhanced_tag_genome).iloc[:,:5]"
   ]
  },
  {
   "cell_type": "code",
   "execution_count": 11,
   "metadata": {},
   "outputs": [],
   "source": [
    "totalelem.to_csv(\"output/totalelem.csv\")"
   ]
  },
  {
   "cell_type": "code",
   "execution_count": 12,
   "metadata": {},
   "outputs": [],
   "source": [
    "def tag_frequency(genome, pivot_var=['type', 'version']):\n",
    "    total_uniqelem = total_elem(genome, pivot_var)\n",
    "    tagcount = tagkey_analysis(genome, pivot_var)\n",
    "    # Prepare data: group tag counts by element types\n",
    "    tagcount_groups = tagcount.groupby(level='type')\n",
    "    # For each type, compute the proportion of element tagged with each tag\n",
    "    tag_freq = []\n",
    "    for key, group in tagcount_groups:\n",
    "        tag_freq.append( group / total_uniqelem.loc[key])\n",
    "    # Regroup in one single dataframe and return\n",
    "    tag_freq = pd.concat(tag_freq)\n",
    "    return 100*tag_freq.round(4)"
   ]
  },
  {
   "cell_type": "code",
   "execution_count": 13,
   "metadata": {},
   "outputs": [],
   "source": [
    "tagfreq = tag_frequency(enhanced_tag_genome, ['type','version']).sort_values(1, ascending=False).head(20)[[1,3,5,10,15]]\n",
    "tagfreq.to_csv(\"output/tagfreq.csv\")"
   ]
  },
  {
   "cell_type": "code",
   "execution_count": 14,
   "metadata": {},
   "outputs": [],
   "source": [
    "def tagvalue_analysis(genome, key, pivot_var=['type']):\n",
    "    return (genome.query(\"tagkey==@key\")\n",
    "            .groupby(['tagvalue', *pivot_var])['id']\n",
    "            .nunique()\n",
    "            .unstack()\n",
    "            .fillna(0))"
   ]
  },
  {
   "cell_type": "code",
   "execution_count": 15,
   "metadata": {},
   "outputs": [],
   "source": [
    "tagvalue_overview = tagvalue_analysis(tag_genome, 'highway', ['type', 'version'])\n",
    "tagvalue2 = tagvalue_overview.sort_values(1, ascending=False).iloc[:5,:7]\n",
    "tagvalue2.to_csv(\"output/highway.csv\")"
   ]
  },
  {
   "cell_type": "code",
   "execution_count": 16,
   "metadata": {},
   "outputs": [],
   "source": [
    "tagvalue_overview = tagvalue_analysis(tag_genome, 'building', ['type', 'version'])\n",
    "tagvalue2 = tagvalue_overview.sort_values(1, ascending=False).iloc[:5,:7]\n",
    "tagvalue2.to_csv(\"output/building.csv\")"
   ]
  },
  {
   "cell_type": "code",
   "execution_count": 17,
   "metadata": {},
   "outputs": [],
   "source": [
    "def tot_values(genome, key, pivot_var=['type', 'version']):\n",
    "    return (genome.query(\"tagkey==@key\")\n",
    "                      .groupby(pivot_var)['id']\n",
    "                      .nunique()\n",
    "                      .unstack()\n",
    "                      .fillna(0))"
   ]
  },
  {
   "cell_type": "code",
   "execution_count": 18,
   "metadata": {},
   "outputs": [],
   "source": [
    "totval = tot_values(tag_genome, 'highway')[[1,2,3,4,5,10,15]]\n",
    "totval.to_csv(\"output/highway_total.csv\")"
   ]
  },
  {
   "cell_type": "code",
   "execution_count": 19,
   "metadata": {},
   "outputs": [],
   "source": [
    "totval2 = tot_values(tag_genome, 'building')[[1,2,3,4,5,10,15]]\n",
    "totval2.to_csv(\"output/building_total.csv\")"
   ]
  },
  {
   "cell_type": "code",
   "execution_count": 20,
   "metadata": {},
   "outputs": [],
   "source": [
    "def tagvalue_frequency(genome, key, pivot_var=['type', 'version']):\n",
    "    total_uniqelem = tot_values(genome, key, pivot_var)\n",
    "    tagcount = tagvalue_analysis(genome, key, pivot_var=['type','version'])\n",
    "    tagcount_groups = tagcount.groupby(level='type')\n",
    "    tag_freq = []\n",
    "    for key, group in tagcount_groups:\n",
    "        tag_freq.append( group / total_uniqelem.loc[key])\n",
    "    tag_freq = pd.concat(tag_freq)\n",
    "    return (100*tag_freq).round(4)"
   ]
  },
  {
   "cell_type": "code",
   "execution_count": 21,
   "metadata": {},
   "outputs": [],
   "source": [
    "tagvalue_freq = tagvalue_frequency(tag_genome, 'highway', ['type','version']).swaplevel().sort_values(1, ascending=False)\n",
    "tagvalue_freq.to_csv(\"output/highway.csv\")"
   ]
  },
  {
   "cell_type": "code",
   "execution_count": 22,
   "metadata": {},
   "outputs": [],
   "source": [
    "tagvalue_freq_rel = tagvalue_freq.loc['relation', [1,3,5,10,15]]\n",
    "tagvalue_freq_rel.to_csv(\"output/highway_rel.csv\")"
   ]
  },
  {
   "cell_type": "code",
   "execution_count": 23,
   "metadata": {},
   "outputs": [],
   "source": [
    "tagvalue_freq_way = tagvalue_freq.loc['way', [1,3,5,10,15]]\n",
    "tagvalue_freq_way.to_csv(\"output/highway_way.csv\")"
   ]
  },
  {
   "cell_type": "code",
   "execution_count": 24,
   "metadata": {},
   "outputs": [],
   "source": [
    "tagvalue_freq_node = tagvalue_freq.loc['node', [1,3,5,10,15]]\n",
    "tagvalue_freq_node.to_csv(\"output/highway_node.csv\")"
   ]
  },
  {
   "cell_type": "code",
   "execution_count": 25,
   "metadata": {},
   "outputs": [],
   "source": [
    "tagvalue_freq2 = tagvalue_frequency(tag_genome, 'building', ['type','version']).swaplevel().sort_values(1, ascending=False)\n",
    "tagvalue_freq2.to_csv(\"output/building.csv\")"
   ]
  },
  {
   "cell_type": "code",
   "execution_count": 26,
   "metadata": {},
   "outputs": [],
   "source": [
    "tagvalue_freq2_rel = tagvalue_freq2.loc['relation', [1,3,5,10,15]]\n",
    "tagvalue_freq2_rel.to_csv(\"output/building_rel.csv\")"
   ]
  },
  {
   "cell_type": "code",
   "execution_count": 27,
   "metadata": {},
   "outputs": [],
   "source": [
    "tagvalue_freq2_way = tagvalue_freq2.loc['way', [1,3,5,10,15]]\n",
    "tagvalue_freq2_way.to_csv(\"output/building_way.csv\")"
   ]
  },
  {
   "cell_type": "code",
   "execution_count": 28,
   "metadata": {},
   "outputs": [],
   "source": [
    "tagvalue_freq2_node = tagvalue_freq2.loc['node', [1,3,5,10,15]]\n",
    "tagvalue_freq2_node.to_csv(\"output/building_node.csv\")"
   ]
  }
 ],
 "metadata": {
  "kernelspec": {
   "display_name": "Python 3",
   "language": "python",
   "name": "python3"
  },
  "language_info": {
   "codemirror_mode": {
    "name": "ipython",
    "version": 3
   },
   "file_extension": ".py",
   "mimetype": "text/x-python",
   "name": "python",
   "nbconvert_exporter": "python",
   "pygments_lexer": "ipython3",
   "version": "3.6.5"
  }
 },
 "nbformat": 4,
 "nbformat_minor": 2
}
