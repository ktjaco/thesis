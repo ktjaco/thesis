{
 "cells": [
  {
   "cell_type": "code",
   "execution_count": 1,
   "metadata": {},
   "outputs": [],
   "source": [
    "import osmium as osm\n",
    "import pandas as pd\n",
    "import datetime\n",
    "import pytz"
   ]
  },
  {
   "cell_type": "code",
   "execution_count": 2,
   "metadata": {},
   "outputs": [],
   "source": [
    "class TimelineHandler(osm.SimpleHandler):\n",
    "    def __init__(self):\n",
    "        osm.SimpleHandler.__init__(self)\n",
    "        self.elemtimeline = []\n",
    "\n",
    "    def element(self, e, elem_type):\n",
    "        self.elemtimeline.append([elem_type,\n",
    "                                  e.id,\n",
    "                                  e.version,\n",
    "                                  e.visible,\n",
    "                                  pd.Timestamp(e.timestamp),\n",
    "                                  e.uid,\n",
    "                                  e.changeset,\n",
    "                                  len(e.tags)])\n",
    "\n",
    "    def node(self, n):\n",
    "        self.element(n, \"node\")\n",
    "\n",
    "    def way(self, w):\n",
    "        self.element(w, \"way\")\n",
    "\n",
    "    def relation(self, r):\n",
    "        self.element(r, \"relation\")"
   ]
  },
  {
   "cell_type": "code",
   "execution_count": 3,
   "metadata": {},
   "outputs": [],
   "source": [
    "tlhandler = TimelineHandler()\n",
    "tlhandler.apply_file(\"data/ottgat.osh.pbf\")\n",
    "colnames = ['type', 'id', 'version', 'visible', 'ts', 'uid', 'chgset', 'ntags']\n",
    "elements = pd.DataFrame(tlhandler.elemtimeline, columns=colnames)\n",
    "elements = elements.sort_values(by=['type', 'id', 'ts'])\n",
    "\n",
    "#elements.to_csv(\"output/elements.csv\", date_format='%Y-%m-%d %H:%M:%S')\n",
    "#elements.to_csv(\"output/elements.csv\")\n",
    "elements.to_csv(\"output/elements.csv\", date_format='%Y-%m-%d')"
   ]
  }
 ],
 "metadata": {
  "kernelspec": {
   "display_name": "Python 3",
   "language": "python",
   "name": "python3"
  },
  "language_info": {
   "codemirror_mode": {
    "name": "ipython",
    "version": 3
   },
   "file_extension": ".py",
   "mimetype": "text/x-python",
   "name": "python",
   "nbconvert_exporter": "python",
   "pygments_lexer": "ipython3",
   "version": "3.6.5"
  }
 },
 "nbformat": 4,
 "nbformat_minor": 2
}
