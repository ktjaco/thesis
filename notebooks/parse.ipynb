{
 "cells": [
  {
   "cell_type": "code",
   "execution_count": null,
   "metadata": {},
   "outputs": [],
   "source": [
    "# install required packages\n",
    "import sys\n",
    "!{sys.executable} -m pip install osmium pandas"
   ]
  },
  {
   "cell_type": "code",
   "execution_count": null,
   "metadata": {},
   "outputs": [],
   "source": [
    "import osmium as osm\n",
    "import pandas as pd"
   ]
  },
  {
   "cell_type": "code",
   "execution_count": null,
   "metadata": {},
   "outputs": [],
   "source": [
    "class TimelineHandler(osm.SimpleHandler):\n",
    "    def __init__(self):\n",
    "        osm.SimpleHandler.__init__(self)\n",
    "        self.elemtimeline = []\n",
    "\n",
    "    def element(self, e, elem_type):\n",
    "        self.elemtimeline.append([elem_type,\n",
    "                                  e.id,\n",
    "                                  e.version,\n",
    "                                  e.visible,\n",
    "                                  pd.Timestamp(e.timestamp),\n",
    "                                  e.uid,\n",
    "                                  e.changeset,\n",
    "                                  len(e.tags)])\n",
    "\n",
    "    def node(self, n):\n",
    "        self.element(n, \"node\")\n",
    "\n",
    "    def way(self, w):\n",
    "        self.element(w, \"way\")\n",
    "\n",
    "    def relation(self, r):\n",
    "        self.element(r, \"relation\")"
   ]
  },
  {
   "cell_type": "code",
   "execution_count": null,
   "metadata": {},
   "outputs": [],
   "source": [
    "tlhandler = TimelineHandler()\n",
    "tlhandler.apply_file(\"data/ottgat.osh.pbf\")\n",
    "colnames = ['type', 'id', 'version', 'visible', 'ts', 'uid', 'chgset', 'ntags']\n",
    "elements = pd.DataFrame(tlhandler.elemtimeline, columns=colnames)\n",
    "elements = elements.sort_values(by=['type', 'id', 'ts'])\n",
    "\n",
    "elements.to_csv(\"output/ottgat_elem.csv\", date_format='%Y-%m-%d %H:%M:%S')"
   ]
  },
  {
   "cell_type": "code",
   "execution_count": null,
   "metadata": {},
   "outputs": [],
   "source": [
    "def datedelems(history, date):\n",
    "    datedelems = (history.query(\"ts <= @date\")\n",
    "                  .groupby(['type','id'])['version']\n",
    "                  .max()\n",
    "                  .reset_index())\n",
    "    return pd.merge(datedelems, history, on=['type','id','version'])\n",
    "\n",
    "def osm_stats(osm_history, timestamp):\n",
    "    osmdata = datedelems(osm_history, timestamp)\n",
    "    nb_nodes = len(osmdata.query('type == \"node\"'))\n",
    "    nb_ways = len(osmdata.query('type == \"way\"'))\n",
    "    nb_relations = len(osmdata.query('type == \"relation\"'))\n",
    "    nb_users = osmdata.uid.nunique()\n",
    "    nb_chgsets = osmdata.chgset.nunique()\n",
    "    return [nb_nodes, nb_ways, nb_relations, nb_users, nb_chgsets]\n",
    "\n",
    "def osm_chronology(history, start_date, end_date):\n",
    "    timerange = pd.date_range(start_date, end_date, freq=\"1M\").values\n",
    "    osmstats = [osm_stats(history, str(date)) for date in timerange]\n",
    "    osmstats = pd.DataFrame(osmstats, index=timerange,\n",
    "                            columns=['n_nodes', 'n_ways', 'n_relations',\n",
    "                                     'n_users', 'n_chgsets'])\n",
    "    return osmstats"
   ]
  },
  {
   "cell_type": "code",
   "execution_count": null,
   "metadata": {},
   "outputs": [],
   "source": [
    "osmstats = osm_stats(elements, \"2009-03-30\")"
   ]
  },
  {
   "cell_type": "code",
   "execution_count": null,
   "metadata": {},
   "outputs": [],
   "source": [
    "chrono_data = osm_chronology(elements, \"2007-01-01\", \"2017-10-01\")"
   ]
  },
  {
   "cell_type": "code",
   "execution_count": null,
   "metadata": {},
   "outputs": [],
   "source": [
    "print chrono_data\n",
    "\n",
    "chrono_data.to_csv(\"output/ottgat_chrono.csv\")"
   ]
  }
 ],
 "metadata": {
  "kernelspec": {
   "display_name": "Python 2",
   "language": "python",
   "name": "python2"
  },
  "language_info": {
   "codemirror_mode": {
    "name": "ipython",
    "version": 2
   },
   "file_extension": ".py",
   "mimetype": "text/x-python",
   "name": "python",
   "nbconvert_exporter": "python",
   "pygments_lexer": "ipython2",
   "version": "2.7.11"
  }
 },
 "nbformat": 4,
 "nbformat_minor": 2
}
