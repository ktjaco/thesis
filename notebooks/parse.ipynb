{
 "cells": [
  {
   "cell_type": "code",
   "execution_count": 1,
   "metadata": {},
   "outputs": [
    {
     "name": "stdout",
     "output_type": "stream",
     "text": [
      "\u001b[33mDEPRECATION: Python 2.7 will reach the end of its life on January 1st, 2020. Please upgrade your Python as Python 2.7 won't be maintained after that date. A future version of pip will drop support for Python 2.7.\u001b[0m\n",
      "Collecting osmium\n",
      "\u001b[?25l  Downloading https://files.pythonhosted.org/packages/5e/7b/c758044c288b1e3f06247764754ed952c4f1136d7ee74a5db371db624641/osmium-2.15.2-cp27-cp27mu-manylinux1_x86_64.whl (1.2MB)\n",
      "\u001b[K     |████████████████████████████████| 1.2MB 118kB/s eta 0:00:01\n",
      "\u001b[?25hCollecting pandas\n",
      "\u001b[?25l  Downloading https://files.pythonhosted.org/packages/db/83/7d4008ffc2988066ff37f6a0bb6d7b60822367dcb36ba5e39aa7801fda54/pandas-0.24.2-cp27-cp27mu-manylinux1_x86_64.whl (10.1MB)\n",
      "\u001b[K     |████████████████████████████████| 10.1MB 213kB/s eta 0:00:01\n",
      "\u001b[?25hCollecting pytz>=2011k (from pandas)\n",
      "\u001b[?25l  Downloading https://files.pythonhosted.org/packages/3d/73/fe30c2daaaa0713420d0382b16fbb761409f532c56bdcc514bf7b6262bb6/pytz-2019.1-py2.py3-none-any.whl (510kB)\n",
      "\u001b[K     |████████████████████████████████| 512kB 195kB/s eta 0:00:01\n",
      "\u001b[?25hCollecting numpy>=1.12.0 (from pandas)\n",
      "\u001b[?25l  Downloading https://files.pythonhosted.org/packages/1f/c7/198496417c9c2f6226616cff7dedf2115a4f4d0276613bab842ec8ac1e23/numpy-1.16.4-cp27-cp27mu-manylinux1_x86_64.whl (17.0MB)\n",
      "\u001b[K     |████████████████████████████████| 17.0MB 237kB/s eta 0:00:01\n",
      "\u001b[?25hRequirement already satisfied: python-dateutil>=2.5.0 in /home/hduser/anaconda3/envs/pydev27/lib/python2.7/site-packages (from pandas) (2.8.0)\n",
      "Requirement already satisfied: six>=1.5 in /home/hduser/anaconda3/envs/pydev27/lib/python2.7/site-packages (from python-dateutil>=2.5.0->pandas) (1.12.0)\n",
      "Installing collected packages: osmium, pytz, numpy, pandas\n",
      "Successfully installed numpy-1.16.4 osmium-2.15.2 pandas-0.24.2 pytz-2019.1\n"
     ]
    }
   ],
   "source": [
    "# install required packages\n",
    "import sys\n",
    "!{sys.executable} -m pip install osmium pandas"
   ]
  },
  {
   "cell_type": "code",
   "execution_count": 2,
   "metadata": {},
   "outputs": [],
   "source": [
    "import osmium as osm\n",
    "import pandas as pd"
   ]
  },
  {
   "cell_type": "code",
   "execution_count": 3,
   "metadata": {},
   "outputs": [],
   "source": [
    "class TimelineHandler(osm.SimpleHandler):\n",
    "    def __init__(self):\n",
    "        osm.SimpleHandler.__init__(self)\n",
    "        self.elemtimeline = []\n",
    "\n",
    "    def element(self, e, elem_type):\n",
    "        self.elemtimeline.append([elem_type,\n",
    "                                  e.id,\n",
    "                                  e.version,\n",
    "                                  e.visible,\n",
    "                                  pd.Timestamp(e.timestamp),\n",
    "                                  e.uid,\n",
    "                                  e.changeset,\n",
    "                                  len(e.tags)])\n",
    "\n",
    "    def node(self, n):\n",
    "        self.element(n, \"node\")\n",
    "\n",
    "    def way(self, w):\n",
    "        self.element(w, \"way\")\n",
    "\n",
    "    def relation(self, r):\n",
    "        self.element(r, \"relation\")"
   ]
  },
  {
   "cell_type": "code",
   "execution_count": 4,
   "metadata": {},
   "outputs": [],
   "source": [
    "tlhandler = TimelineHandler()\n",
    "tlhandler.apply_file(\"data/ottgat.osh.pbf\")\n",
    "colnames = ['type', 'id', 'version', 'visible', 'ts', 'uid', 'chgset', 'ntags']\n",
    "elements = pd.DataFrame(tlhandler.elemtimeline, columns=colnames)\n",
    "elements = elements.sort_values(by=['type', 'id', 'ts'])\n",
    "\n",
    "elements.to_csv(\"output/ottgat_elem.csv\", date_format='%Y-%m-%d %H:%M:%S')"
   ]
  },
  {
   "cell_type": "code",
   "execution_count": 5,
   "metadata": {},
   "outputs": [],
   "source": [
    "def datedelems(history, date):\n",
    "    datedelems = (history.query(\"ts <= @date\")\n",
    "                  .groupby(['type','id'])['version']\n",
    "                  .max()\n",
    "                  .reset_index())\n",
    "    return pd.merge(datedelems, history, on=['type','id','version'])\n",
    "\n",
    "def osm_stats(osm_history, timestamp):\n",
    "    osmdata = datedelems(osm_history, timestamp)\n",
    "    nb_nodes = len(osmdata.query('type == \"node\"'))\n",
    "    nb_ways = len(osmdata.query('type == \"way\"'))\n",
    "    nb_relations = len(osmdata.query('type == \"relation\"'))\n",
    "    nb_users = osmdata.uid.nunique()\n",
    "    nb_chgsets = osmdata.chgset.nunique()\n",
    "    return [nb_nodes, nb_ways, nb_relations, nb_users, nb_chgsets]\n",
    "\n",
    "def osm_chronology(history, start_date, end_date):\n",
    "    timerange = pd.date_range(start_date, end_date, freq=\"1M\").values\n",
    "    osmstats = [osm_stats(history, str(date)) for date in timerange]\n",
    "    osmstats = pd.DataFrame(osmstats, index=timerange,\n",
    "                            columns=['n_nodes', 'n_ways', 'n_relations',\n",
    "                                     'n_users', 'n_chgsets'])\n",
    "    return osmstats"
   ]
  },
  {
   "cell_type": "code",
   "execution_count": 6,
   "metadata": {},
   "outputs": [],
   "source": [
    "osmstats = osm_stats(elements, \"2009-03-30\")"
   ]
  },
  {
   "cell_type": "code",
   "execution_count": 7,
   "metadata": {},
   "outputs": [],
   "source": [
    "chrono_data = osm_chronology(elements, \"2007-01-01\", \"2017-10-01\")"
   ]
  },
  {
   "cell_type": "code",
   "execution_count": 8,
   "metadata": {},
   "outputs": [
    {
     "name": "stdout",
     "output_type": "stream",
     "text": [
      "            n_nodes  n_ways  n_relations  n_users  n_chgsets\n",
      "2007-01-31     1444     332            0        5         39\n",
      "2007-02-28     1473     339            0        5         43\n",
      "2007-03-31     1837     426            0        6         50\n",
      "2007-04-30     1951     445            0        7         53\n",
      "2007-05-31     2290     477            0        9         55\n",
      "2007-06-30     3764     523            0       10         61\n",
      "2007-07-31    15399    1451            0       14         88\n",
      "2007-08-31    23207    3318            8       15        120\n",
      "2007-09-30    26682    3615           10       17        141\n",
      "2007-10-31    36023    4314           12       22        181\n",
      "2007-11-30    41313    5020           12       27        223\n",
      "2007-12-31    49781    5637           12       26        274\n",
      "2008-01-31    50855    5739           12       28        297\n",
      "2008-02-29    53335    6137           13       31        318\n",
      "2008-03-31    57990    6644           24       38        362\n",
      "2008-04-30    58096    6652           24       40        367\n",
      "2008-05-31    58561    6662           24       45        383\n",
      "2008-06-30    61745    7092           24       50        398\n",
      "2008-07-31    62629    7179           24       58        419\n",
      "2008-08-31    70151    7683           24       68        459\n",
      "2008-09-30    71461    7787           24       74        484\n",
      "2008-10-31    72958    7823           24       77        503\n",
      "2008-11-30    75742    7966           24       85        538\n",
      "2008-12-31   126535    8424           25       90        554\n",
      "2009-01-31   133517    8750           41       90        584\n",
      "2009-02-28   136306    8808           41       95        603\n",
      "2009-03-31   143649    9013           43      106        663\n",
      "2009-04-30   150853    9201           44      118        728\n",
      "2009-05-31   189972   17190           47      134        920\n",
      "2009-06-30   193637   17510           47      147        988\n",
      "...             ...     ...          ...      ...        ...\n",
      "2015-04-30  1488879  217017         1120      793      28475\n",
      "2015-05-31  1491423  217341         1128      818      28768\n",
      "2015-06-30  1498519  218481         1191      832      29093\n",
      "2015-07-31  1524807  222245         1284      839      29956\n",
      "2015-08-31  1705683  229651         1377      845      30591\n",
      "2015-09-30  1729327  234570         1397      862      30909\n",
      "2015-10-31  1732868  235126         1406      880      31232\n",
      "2015-11-30  1750246  238110         1430      906      31623\n",
      "2015-12-31  1776253  243584         1438      921      32027\n",
      "2016-01-31  1785872  245277         1606      925      32481\n",
      "2016-02-29  1792536  246481         1731      930      32735\n",
      "2016-03-31  1797499  247399         1741      939      32857\n",
      "2016-04-30  1827440  252727         1760      967      33150\n",
      "2016-05-31  1835406  253735         1769      994      33391\n",
      "2016-06-30  1902787  256120         1791     1002      33862\n",
      "2016-07-31  1916933  258478         1905     1023      34550\n",
      "2016-08-31  1936361  260192         2043     1051      34735\n",
      "2016-09-30  1969274  262692         2062     1062      35285\n",
      "2016-10-31  4197117  450060         2070     1084      34373\n",
      "2016-11-30  4203552  451604         2389     1115      34661\n",
      "2016-12-31  4306791  468191         3185     1141      35515\n",
      "2017-01-31  4609781  506783         3716     1194      36427\n",
      "2017-02-28  6003084  634217         4111     1191      37306\n",
      "2017-03-31  6509435  681414         4274     1185      37830\n",
      "2017-04-30  6671798  696260         4323     1207      38590\n",
      "2017-05-31  6676484  697103         4370     1226      39336\n",
      "2017-06-30  6680231  697737         4386     1248      39597\n",
      "2017-07-31  6842835  699791         4425     1255      41247\n",
      "2017-08-31  6857963  701010         4538     1258      42432\n",
      "2017-09-30  6873876  702985         4640     1277      42797\n",
      "\n",
      "[129 rows x 5 columns]\n"
     ]
    }
   ],
   "source": [
    "print chrono_data\n",
    "\n",
    "chrono_data.to_csv(\"output/ottgat_chrono.csv\")"
   ]
  }
 ],
 "metadata": {
  "kernelspec": {
   "display_name": "Python 2",
   "language": "python",
   "name": "python2"
  },
  "language_info": {
   "codemirror_mode": {
    "name": "ipython",
    "version": 2
   },
   "file_extension": ".py",
   "mimetype": "text/x-python",
   "name": "python",
   "nbconvert_exporter": "python",
   "pygments_lexer": "ipython2",
   "version": "2.7.11"
  }
 },
 "nbformat": 4,
 "nbformat_minor": 2
}
